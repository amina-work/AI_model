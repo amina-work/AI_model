{
 "cells": [
  {
   "cell_type": "code",
   "execution_count": 5,
   "id": "5e2521af",
   "metadata": {},
   "outputs": [
    {
     "name": "stdout",
     "output_type": "stream",
     "text": [
      "3 est un nombre impair\n"
     ]
    }
   ],
   "source": [
    "#ecrire un programme qui permet de déterminer si  un nombre donné par l'utilisateru est pair ou impair\n",
    "x = float(input(\"Entrer un nombre:\"))\n",
    "if x % 2 == 0:\n",
    "    print(int(x), \"est un nombre pair\")\n",
    "else:\n",
    "    print(int(x), \"est un nombre impair\")"
   ]
  },
  {
   "cell_type": "code",
   "execution_count": null,
   "id": "77e41e7e",
   "metadata": {},
   "outputs": [
    {
     "name": "stdout",
     "output_type": "stream",
     "text": [
      "Nombre d'heures travaillées : 35 heures\n",
      "Taux horaire (DZD) :  500 \n",
      "\n",
      "Nombre d'heures travaillées (normales) : 35 heures\n",
      "Nombre d'heures supplémentaires : 0 heures\n",
      "Salaire heures de travail (normales): 17500.0 DZD\n",
      "Salaire heures de travail supplémentaire : 0.0 DZD\n",
      "Salaire total : 17500.0 DZD\n"
     ]
    }
   ],
   "source": [
    "#écrire un programme qui demande à l'utilisateur de donner le nombre d'heure travaillées par un employé contractuel ainsi que le taux horaire. L'employé   perçoit une augmentation de 25% pour lesheures supplémentaires au delà de 40 heures par semaine\n",
    "nh = int(input(\"Nombre d'heures travaillées : \"))\n",
    "th = float(input(\"Taux horaire (DZD) : \"))\n",
    "aug = 0.25\n",
    "shn, shs, st = 0, 0, 0\n",
    "\n",
    "print(\"Nombre d'heures travaillées :\", nh, 'heures')\n",
    "print(\"Taux horaire (DZD) : \", int(th), \"\\n\")\n",
    "#><\n",
    "if nh <= 40:\n",
    "    shn = nh * th\n",
    "    shs = 0\n",
    "    print(\"Nombre d'heures travaillées (normales) :\", nh, \"heures\")\n",
    "    print(\"Nombre d'heures supplémentaires : 0 heures\")\n",
    "else:\n",
    "    shn = 40 * th\n",
    "    shs = (nh - 40) * ((th * 0.25) + th)\n",
    "    print(\"Nombre d'heures travaillées (normales) : 40 heures\")\n",
    "    print(\"Nombre d'heures supplémentaires :\", int(nh - 40), \"heures\")\n",
    "\n",
    "\n",
    "print(\"Salaire heures de travail (normales):\", float(shn), \"DZD\")\n",
    "print(\"Salaire heures de travail supplémentaire :\", float(shs), \"DZD\")\n",
    "print(\"Salaire total :\", float(shn + shs), \"DZD\")"
   ]
  },
  {
   "cell_type": "code",
   "execution_count": 11,
   "id": "8df22ce4",
   "metadata": {},
   "outputs": [
    {
     "name": "stdout",
     "output_type": "stream",
     "text": [
      "Vous pouvez jouer. Le prix de ticket est 200 DZD\n"
     ]
    }
   ],
   "source": [
    "#ecrire un programme qui permet fsei_land de déterminer si on peut vendre un ticket pourjouer aux montagnes russes en foction de  la taille de la parsonne ainsi que le prix du ticket\n",
    "taille = int(input(\"Taille: \"))\n",
    "age = int(input(\"Age:\"))\n",
    "if taille > 120:\n",
    "    if age > 18:\n",
    "        print(\"Vous pouvez jouer. Le prix de ticket est 200 DZD\")\n",
    "    else:\n",
    "        print(\"Vous pouvez jouer. Le prix de ticket est 100 DZD\")\n",
    "else:\n",
    "    print(\"Vous ne pouvez pas jouer\")"
   ]
  },
  {
   "cell_type": "code",
   "execution_count": 25,
   "id": "245b01c0",
   "metadata": {},
   "outputs": [
    {
     "name": "stdout",
     "output_type": "stream",
     "text": [
      "2022 n'est pas bissextile\n"
     ]
    }
   ],
   "source": [
    "#une année est dite bissextile si elle comporte 366 jours au lieu de 365 pour une année ordinaire. Réalisez un programme qui vérifie si une année donnée est bissextile ou non.\n",
    "year = int(input(\"Année:\"))\n",
    "\n",
    "if year % 4 == 0:\n",
    "    if year % 100 == 0:\n",
    "        if year % 400 == 0:\n",
    "            print(year, \"est bissextile\")\n",
    "        else:\n",
    "            print(year, \"n'est pas bissextile\")\n",
    "    else:\n",
    "        print(year, \"est bissextile\")\n",
    "else:\n",
    "    print(year, \"n'est pas bissextile\")"
   ]
  },
  {
   "cell_type": "code",
   "execution_count": 36,
   "id": "d798dba1",
   "metadata": {},
   "outputs": [
    {
     "name": "stdout",
     "output_type": "stream",
     "text": [
      "Votre IMC est de 26.23 --> Surpoids\n"
     ]
    }
   ],
   "source": [
    "#une application qui permette à l'utilisateur de sasir son poids (kg) et sa taille (m), puis calcule et affiche son IMC (indice de Masse Corporelle) avec un chiffre décimal.\n",
    "poid = float(input(\"Poids:\"))\n",
    "taille = float(input(\"Taille:\"))\n",
    "#><\n",
    "imc = poid / (taille ** 2)\n",
    "print(\"Votre IMC est de\", round(imc, 2), end=\" --> \")\n",
    "if imc < 18.5:\n",
    "    print(\"Insuffisance pondérale (maigreur)\")\n",
    "elif 18.5 <= imc < 25:\n",
    "    print(\"Corpulence normale\")\n",
    "elif 25 <= imc < 30:\n",
    "    print(\"Surpoids\")\n",
    "elif 30 <= imc < 35:\n",
    "    print(\"Obésité modérée\")\n",
    "elif 35 <= imc < 40:\n",
    "    print(\"Obésité sévère\")\n",
    "elif 40 <= imc:\n",
    "    print(\"Obésité morbide ou massive\")\n"
   ]
  },
  {
   "cell_type": "code",
   "execution_count": 4,
   "id": "e66bbb18",
   "metadata": {},
   "outputs": [
    {
     "name": "stdout",
     "output_type": "stream",
     "text": [
      "Bienvenue à PizzaStore\n",
      "Le montant à payer est: 450 DZD\n"
     ]
    }
   ],
   "source": [
    "#une application qui permettent de calculer le prix d'une pizza\n",
    "print(\"Bienvenue à PizzaStore\")\n",
    "while True:\n",
    "    taille = input(\"Taille de la pizza (P/M/L): \")\n",
    "    if taille in ('P', 'M', 'L', 'p', 'm', 'l'):\n",
    "        break\n",
    "    print(\"Entrée invalide. Veuillez entrer P, M ou L.\")\n",
    "while True:\n",
    "    pepp = input(\"Pepperoni ?(O/N): \")\n",
    "    if pepp in ('O', 'N', 'o', 'n'):\n",
    "        break\n",
    "    print(\"Entrée invalide. Veuillez entrer O ou N\")\n",
    "while True:\n",
    "    fr = input(\"Extra Fromage ? (O/N) \")\n",
    "    if fr in ('O', 'N', 'o', 'n'):\n",
    "        break\n",
    "    print(\"Entrée invalide. Veuillez entrer O ou N\")\n",
    "prix = 0\n",
    "if taille == 'P':\n",
    "    prix += 200\n",
    "    if pepp == 'O':\n",
    "        prix += 30\n",
    "elif taille == 'M':\n",
    "    prix += 300\n",
    "    if pepp == 'O':\n",
    "        prix += 50\n",
    "else:\n",
    "    prix += 450\n",
    "    if pepp == 'O':\n",
    "        prix += 50\n",
    "if fr == 'O':\n",
    "    prix += 20\n",
    "print(\"Le montant à payer est:\", prix, \"DZD\")\n"
   ]
  },
  {
   "cell_type": "code",
   "execution_count": 7,
   "id": "48111916",
   "metadata": {},
   "outputs": [
    {
     "name": "stdout",
     "output_type": "stream",
     "text": [
      "Taille invalid\n",
      "Votre IMC est de 20.2 --> Corpulence normale\n"
     ]
    }
   ],
   "source": [
    "#IMC sachant que les poids (10 et 120kg) et la taille (150 et 200cm)\n",
    "while True:\n",
    "    p = int(input(\"Poids:\"))\n",
    "    if 10 <= p <= 120:\n",
    "        break #get out of loop\n",
    "    print(\"Poids invalid\")\n",
    "while True:\n",
    "    t = float(input('Taille:'))\n",
    "    if 1.5 <= t <= 2.0:\n",
    "        break\n",
    "    print(\"Taille invalid\")\n",
    "imc = p / (t ** 2)\n",
    "print(\"Votre IMC est de\", round(imc, 1), end=\" --> \")\n",
    "if imc < 18.5:\n",
    "    print(\"Insuffisance pondérale (maigreur)\")\n",
    "elif 18.5 <= imc < 25:\n",
    "    print(\"Corpulence normale\")\n",
    "elif  25 <= imc < 30:\n",
    "    print(\"Surpoids\")\n",
    "elif  30 <= imc < 35:\n",
    "    print(\"Obésité modérée\")\n",
    "elif  35 <= imc < 40:\n",
    "    print(\"Obésité sévère\")\n",
    "else:\n",
    "    print(\"Obésité morbide ou massive\")"
   ]
  },
  {
   "cell_type": "code",
   "execution_count": 11,
   "id": "a5b554c5",
   "metadata": {},
   "outputs": [
    {
     "name": "stdout",
     "output_type": "stream",
     "text": [
      "Calcul Salaire\n",
      "Votre salaire pour cette semaine est de  27500.0 DZD\n"
     ]
    }
   ],
   "source": [
    "#un programme qui demande à l'utilisateur de donner le nombre d'heures travaillées durant une semaine par un employé ainsi que son salaire horaire.\n",
    "print(\"Calcul Salaire\")\n",
    "a = int(input(\"Nombre heures travaillées cette semaine :\"))\n",
    "b = int(input(\"Salaire horaire:\"))\n",
    "resultat = 0\n",
    "if a <= 40:\n",
    "    resultat = a * b\n",
    "else:\n",
    "    resultat = (40 * b) + ((a - 40) * (b * 0.5 + b))\n",
    "print(\"Votre salaire pour cette semaine est de \", float(round(resultat, 2)), \"DZD\")"
   ]
  },
  {
   "cell_type": "code",
   "execution_count": 15,
   "id": "45ac9f78",
   "metadata": {},
   "outputs": [
    {
     "name": "stdout",
     "output_type": "stream",
     "text": [
      "MinMax classifier\n",
      "5 et 5 sont équivalent\n"
     ]
    }
   ],
   "source": [
    "print(\"MinMax classifier\")\n",
    "while True:\n",
    "    try:\n",
    "        m = int(input(\"Entrer premier entier\"))\n",
    "        n = int(input(\"Entrerr deuxième entier\"))\n",
    "    except ValueError:\n",
    "        print(\"Nombre invalid\")\n",
    "        continue\n",
    "    else:\n",
    "        break\n",
    "if m > n:\n",
    "    print(\"le premier nombre est le max:\", m, \">\", n)\n",
    "elif n > m:\n",
    "    print(\"le deuxième nombre est le max:\", n, \">\", m)\n",
    "else:\n",
    "    print(m, \"et\", n, \"sont équivalent\")"
   ]
  },
  {
   "cell_type": "code",
   "execution_count": 4,
   "id": "3883aa0c",
   "metadata": {},
   "outputs": [
    {
     "name": "stdout",
     "output_type": "stream",
     "text": [
      "Votre score est de 9, vous êtes incompatibles comme huile sur eau\n"
     ]
    }
   ],
   "source": [
    "#une application qui teste  le compatibilité entre deux persones. Afin de calculer ce score il faut prendre les noms complets de deux personnes et calculer le nombre de fois ou les lettre du mot TRUE et LOVE apparaissent\n",
    "while True:\n",
    "    try:\n",
    "        first_name = str(input(\"Donnez le premier nom:\"))\n",
    "        second_name = str(input(\"Donner le second nom:\"))\n",
    "    except ValueError:\n",
    "        print(\"Nom invalid\")\n",
    "        continue\n",
    "    else:\n",
    "        break\n",
    "count = 0\n",
    "first_name = first_name.upper()\n",
    "second_name = second_name.upper()\n",
    "for i in range(len(first_name)):\n",
    "    if first_name[i] in ('T', 'R', 'U', 'E'):\n",
    "        count += 1\n",
    "    if first_name[i] in ('L', 'O', 'V', 'E'):\n",
    "        count += 1\n",
    "    i += 1\n",
    "for i in range(len(second_name)):\n",
    "    if second_name[i] in ('T', 'R', 'U', 'E'):\n",
    "        count += 1\n",
    "    if second_name[i] in ('L', 'O', 'V', 'E'):\n",
    "        count += 1\n",
    "    i += 1\n",
    "print('Votre score est de ' + str(count ) + ',', end=' ')\n",
    "if count < 10:\n",
    "    print('vous êtes incompatibles comme huile sur eau')\n",
    "elif 40 < count < 50:\n",
    "    print(\"vous êtes faits l'un pour l'autre\")\n",
    "elif count > 90 :\n",
    "    print('vous êtes incompatibles comme huile sur eau')"
   ]
  },
  {
   "cell_type": "code",
   "execution_count": 8,
   "id": "9c09951a",
   "metadata": {},
   "outputs": [
    {
     "name": "stdout",
     "output_type": "stream",
     "text": [
      "JEU PILE OU FACE\n",
      "Lancé 1 Pile\n",
      "Lancé 2 Face\n",
      "Lancé 3 Pile\n",
      "Lancé 4 Face\n",
      "Lancé 5 Face\n",
      "Nombre piles: 2\n",
      "Nombres faces: 3\n"
     ]
    }
   ],
   "source": [
    "#un programme qui demande a l'utilisateur le nombre de fois qu'une piece sera lancée et qui affiche pile ou face et le nombre de fois ou l'on obtient pile ou face\n",
    "import random\n",
    "print(\"JEU PILE OU FACE\")\n",
    "while True:\n",
    "    try:\n",
    "        nbr = int(input(\"Donnez le nombre de lancers:\"))\n",
    "    except ValueError:\n",
    "        print(\"input invalid\")\n",
    "        continue\n",
    "    else:\n",
    "        break\n",
    "pile_count, face_count = 0, 0\n",
    "for i in range(nbr):\n",
    "    choice = random.choice([\"Pile\", \"Face\"])\n",
    "    print(\"Lancé\", i+1, choice)\n",
    "    if choice == 'Pile':\n",
    "        pile_count += 1\n",
    "    else:\n",
    "        face_count += 1\n",
    "    i += 1\n",
    "print(\"Nombre piles:\", pile_count)\n",
    "print(\"Nombres faces:\", face_count)"
   ]
  },
  {
   "cell_type": "code",
   "execution_count": 19,
   "id": "8fdadb26",
   "metadata": {},
   "outputs": [
    {
     "name": "stdout",
     "output_type": "stream",
     "text": [
      "CALCULATEUR DE LA TAILLE MOYENNE\n",
      "Nombre de joueurs invalid\n",
      "La taille moyenne des joueurs est:  181.2\n"
     ]
    }
   ],
   "source": [
    "#un programme qui calcule la taille moyenne des jouers d'une equipe.\n",
    "print(\"CALCULATEUR DE LA TAILLE MOYENNE\")\n",
    "while True:\n",
    "    try:\n",
    "        nbr_jouers = int(input(\"Donnez le nombres de joueurs:\"))\n",
    "        while nbr_jouers <= 0:\n",
    "            nbr_jouers = int(input(\"Le nombre de joueurs ne peut pas être négatif. Essayer a nouveau\"))\n",
    "    except ValueError:\n",
    "        print(\"Nombre de joueurs invalid\")\n",
    "        continue\n",
    "    else:\n",
    "        break\n",
    "list = []\n",
    "for i in range(nbr_jouers):\n",
    "    while True:\n",
    "        try: \n",
    "            taille_joueur = int(input(\"Taille joueur \" +str(i+1)+ \" :\"))\n",
    "            while taille_joueur <= 0:\n",
    "                taille_joueur = int(input(\"Taille incorrecte. Donnez Taille joueur \" + str(i+1) + \" :\"))\n",
    "        except ValueError:\n",
    "            print(\"taille invalid\")\n",
    "            continue\n",
    "        else:\n",
    "            break\n",
    "    list.append(taille_joueur)\n",
    "    i+=1\n",
    "print(\"La taille moyenne des joueurs est: \", round(sum(list) / len(list), 2))"
   ]
  },
  {
   "cell_type": "code",
   "execution_count": 5,
   "id": "93384d25",
   "metadata": {},
   "outputs": [
    {
     "name": "stdout",
     "output_type": "stream",
     "text": [
      "TROUVER LE MAXIMUM\n",
      "La note maximale est 18\n",
      "La moyenne est: 13.75\n"
     ]
    }
   ],
   "source": [
    "#un programme qui demande à l'utilisateur de saisir les notes d'étudiants jusqu'à ce que l'utilisateur entre la valeur -1\n",
    "print(\"TROUVER LE MAXIMUM\")\n",
    "k = 1\n",
    "list_nbrs = []\n",
    "while True:\n",
    "    number = int(input(\"Donnez la note \" +str(k)+ \" :\"))\n",
    "    if number == -1:\n",
    "        break\n",
    "    elif number < 0 or number > 20:\n",
    "        number = int(input(\"La note est incorrect. Donnez la note \" + str(k) + ' :'))\n",
    "    else:\n",
    "        k += 1\n",
    "        list_nbrs.append(number)\n",
    "        continue\n",
    "print(\"La note maximale est\", max(list_nbrs))\n",
    "print(\"La moyenne est:\", round(sum(list_nbrs)/len(list_nbrs), 2))"
   ]
  },
  {
   "cell_type": "code",
   "execution_count": 10,
   "id": "208afb09",
   "metadata": {},
   "outputs": [
    {
     "name": "stdout",
     "output_type": "stream",
     "text": [
      "2 + 4 + 6 + 8 + 10 + 12 + 14 + 16 + 18 + 20 + 22 + 24 + 26 + 28 + 30 + 32 + 34 + 36 + 38 + 40 + 42 + 44 + 46 + 48 + 50 + 52 + 54 + 56 + 58 + 60 + 62 + 64 + 66 + 68 + 70 + 72 + 74 + 76 + 78 + 80 + 82 + 84 + 86 + 88 + 90 + 92 + 94 + 96 + 98 + 100 + = 2550\n"
     ]
    }
   ],
   "source": [
    "#un programme qui calcule la somme des nombres pairs entre 2 et 100(inclus)\n",
    "list_sum = []\n",
    "for i in range(2, 101, 2):\n",
    "    list_sum.append(i)\n",
    "    print(i, \"+\", end=\" \")\n",
    "print(\"=\", sum(list_sum))"
   ]
  },
  {
   "cell_type": "code",
   "execution_count": 12,
   "id": "5c924abc",
   "metadata": {},
   "outputs": [
    {
     "name": "stdout",
     "output_type": "stream",
     "text": [
      "1\n",
      "2\n",
      "Fizz\n",
      "4\n",
      "Buzz\n",
      "Fizz\n",
      "7\n",
      "8\n",
      "Fizz\n",
      "Buzz\n",
      "11\n",
      "Fizz\n",
      "13\n",
      "14\n",
      "FizzBuzz\n",
      "16\n",
      "17\n",
      "Fizz\n",
      "19\n",
      "Buzz\n",
      "Fizz\n",
      "22\n",
      "23\n",
      "Fizz\n",
      "Buzz\n",
      "26\n",
      "Fizz\n",
      "28\n",
      "29\n",
      "FizzBuzz\n",
      "31\n",
      "32\n",
      "Fizz\n",
      "34\n",
      "Buzz\n",
      "Fizz\n",
      "37\n",
      "38\n",
      "Fizz\n",
      "Buzz\n",
      "41\n",
      "Fizz\n",
      "43\n",
      "44\n",
      "FizzBuzz\n",
      "46\n",
      "47\n",
      "Fizz\n",
      "49\n",
      "Buzz\n",
      "Fizz\n",
      "52\n",
      "53\n",
      "Fizz\n",
      "Buzz\n",
      "56\n",
      "Fizz\n",
      "58\n",
      "59\n",
      "FizzBuzz\n",
      "61\n",
      "62\n",
      "Fizz\n",
      "64\n",
      "Buzz\n",
      "Fizz\n",
      "67\n",
      "68\n",
      "Fizz\n",
      "Buzz\n",
      "71\n",
      "Fizz\n",
      "73\n",
      "74\n",
      "FizzBuzz\n",
      "76\n",
      "77\n",
      "Fizz\n",
      "79\n",
      "Buzz\n",
      "Fizz\n",
      "82\n",
      "83\n",
      "Fizz\n",
      "Buzz\n",
      "86\n",
      "Fizz\n",
      "88\n",
      "89\n",
      "FizzBuzz\n",
      "91\n",
      "92\n",
      "Fizz\n",
      "94\n",
      "Buzz\n",
      "Fizz\n",
      "97\n",
      "98\n",
      "Fizz\n",
      "Buzz\n"
     ]
    }
   ],
   "source": [
    "#un programme qui affiche les solutions du jeu FizzBuzz. Le programme affiche tous les chiffres de 1 jusqu'à 100.\n",
    "for j in range(1, 101):\n",
    "    if j%3 == 0 and j%5==0:\n",
    "        print(\"FizzBuzz\")\n",
    "    elif j % 3 == 0:\n",
    "        print('Fizz')\n",
    "    elif j%5 == 0:\n",
    "        print(\"Buzz\")\n",
    "    else:\n",
    "        print(j) "
   ]
  },
  {
   "cell_type": "code",
   "execution_count": 15,
   "id": "ce99bf0b",
   "metadata": {},
   "outputs": [
    {
     "name": "stdout",
     "output_type": "stream",
     "text": [
      " 1\n",
      "  2\n",
      "   3\n",
      "    4\n"
     ]
    }
   ],
   "source": [
    "#un programme demande à l'utilisateur de saisir une valeur n et qui affiche les chiffres de 1 jusqu'à n sous forme d'un escalier\n",
    "while True:\n",
    "    entier = int(input(\"Donnez un entier positif n:\"))\n",
    "    if entier < 0:\n",
    "        entier = int(input(\"n doit être positif! : \"))\n",
    "    else:\n",
    "        break\n",
    "for l in range(entier):\n",
    "    print(\" \" * l, l+1)\n",
    "    l += 1"
   ]
  },
  {
   "cell_type": "code",
   "execution_count": null,
   "id": "844a758f",
   "metadata": {},
   "outputs": [
    {
     "name": "stdout",
     "output_type": "stream",
     "text": [
      "38\n",
      "57\n",
      "97\n",
      "55\n",
      "65\n",
      "91\n",
      "63\n",
      "60\n",
      "68\n",
      "24\n",
      "3\n",
      "51\n",
      "59\n",
      "32\n",
      "50\n"
     ]
    }
   ],
   "source": [
    "#un programme qui génère et affiche des nombres entre 0 et 100 (inclus) et arrete sur 50\n",
    "import random\n",
    "while True:\n",
    "    nb = random.randint(0, 101)\n",
    "    print(nb)\n",
    "    if nb == 50:\n",
    "        break"
   ]
  }
 ],
 "metadata": {
  "kernelspec": {
   "display_name": "Python 3",
   "language": "python",
   "name": "python3"
  },
  "language_info": {
   "codemirror_mode": {
    "name": "ipython",
    "version": 3
   },
   "file_extension": ".py",
   "mimetype": "text/x-python",
   "name": "python",
   "nbconvert_exporter": "python",
   "pygments_lexer": "ipython3",
   "version": "3.11.4"
  }
 },
 "nbformat": 4,
 "nbformat_minor": 5
}
