{
 "cells": [
  {
   "cell_type": "code",
   "execution_count": 5,
   "id": "5e2521af",
   "metadata": {},
   "outputs": [
    {
     "name": "stdout",
     "output_type": "stream",
     "text": [
      "3 est un nombre impair\n"
     ]
    }
   ],
   "source": [
    "#ecrire un programme qui permet de déterminer si  un nombre donné par l'utilisateru est pair ou impair\n",
    "x = float(input(\"Entrer un nombre:\"))\n",
    "if x % 2 == 0:\n",
    "    print(int(x), \"est un nombre pair\")\n",
    "else:\n",
    "    print(int(x), \"est un nombre impair\")"
   ]
  },
  {
   "cell_type": "code",
   "execution_count": null,
   "id": "77e41e7e",
   "metadata": {},
   "outputs": [
    {
     "name": "stdout",
     "output_type": "stream",
     "text": [
      "Nombre d'heures travaillées : 35 heures\n",
      "Taux horaire (DZD) :  500 \n",
      "\n",
      "Nombre d'heures travaillées (normales) : 35 heures\n",
      "Nombre d'heures supplémentaires : 0 heures\n",
      "Salaire heures de travail (normales): 17500.0 DZD\n",
      "Salaire heures de travail supplémentaire : 0.0 DZD\n",
      "Salaire total : 17500.0 DZD\n"
     ]
    }
   ],
   "source": [
    "#écrire un programme qui demande à l'utilisateur de donner le nombre d'heure travaillées par un employé contractuel ainsi que le taux horaire. L'employé   perçoit une augmentation de 25% pour lesheures supplémentaires au delà de 40 heures par semaine\n",
    "nh = int(input(\"Nombre d'heures travaillées : \"))\n",
    "th = float(input(\"Taux horaire (DZD) : \"))\n",
    "aug = 0.25\n",
    "shn, shs, st = 0, 0, 0\n",
    "\n",
    "print(\"Nombre d'heures travaillées :\", nh, 'heures')\n",
    "print(\"Taux horaire (DZD) : \", int(th), \"\\n\")\n",
    "#><\n",
    "if nh <= 40:\n",
    "    shn = nh * th\n",
    "    shs = 0\n",
    "    print(\"Nombre d'heures travaillées (normales) :\", nh, \"heures\")\n",
    "    print(\"Nombre d'heures supplémentaires : 0 heures\")\n",
    "else:\n",
    "    shn = 40 * th\n",
    "    shs = (nh - 40) * ((th * 0.25) + th)\n",
    "    print(\"Nombre d'heures travaillées (normales) : 40 heures\")\n",
    "    print(\"Nombre d'heures supplémentaires :\", int(nh - 40), \"heures\")\n",
    "\n",
    "\n",
    "print(\"Salaire heures de travail (normales):\", float(shn), \"DZD\")\n",
    "print(\"Salaire heures de travail supplémentaire :\", float(shs), \"DZD\")\n",
    "print(\"Salaire total :\", float(shn + shs), \"DZD\")"
   ]
  },
  {
   "cell_type": "code",
   "execution_count": 11,
   "id": "8df22ce4",
   "metadata": {},
   "outputs": [
    {
     "name": "stdout",
     "output_type": "stream",
     "text": [
      "Vous pouvez jouer. Le prix de ticket est 200 DZD\n"
     ]
    }
   ],
   "source": [
    "#ecrire un programme qui permet fsei_land de déterminer si on peut vendre un ticket pourjouer aux montagnes russes en foction de  la taille de la parsonne ainsi que le prix du ticket\n",
    "taille = int(input(\"Taille: \"))\n",
    "age = int(input(\"Age:\"))\n",
    "if taille > 120:\n",
    "    if age > 18:\n",
    "        print(\"Vous pouvez jouer. Le prix de ticket est 200 DZD\")\n",
    "    else:\n",
    "        print(\"Vous pouvez jouer. Le prix de ticket est 100 DZD\")\n",
    "else:\n",
    "    print(\"Vous ne pouvez pas jouer\")"
   ]
  },
  {
   "cell_type": "code",
   "execution_count": 25,
   "id": "245b01c0",
   "metadata": {},
   "outputs": [
    {
     "name": "stdout",
     "output_type": "stream",
     "text": [
      "2022 n'est pas bissextile\n"
     ]
    }
   ],
   "source": [
    "#une année est dite bissextile si elle comporte 366 jours au lieu de 365 pour une année ordinaire. Réalisez un programme qui vérifie si une année donnée est bissextile ou non.\n",
    "year = int(input(\"Année:\"))\n",
    "\n",
    "if year % 4 == 0:\n",
    "    if year % 100 == 0:\n",
    "        if year % 400 == 0:\n",
    "            print(year, \"est bissextile\")\n",
    "        else:\n",
    "            print(year, \"n'est pas bissextile\")\n",
    "    else:\n",
    "        print(year, \"est bissextile\")\n",
    "else:\n",
    "    print(year, \"n'est pas bissextile\")"
   ]
  },
  {
   "cell_type": "code",
   "execution_count": 36,
   "id": "d798dba1",
   "metadata": {},
   "outputs": [
    {
     "name": "stdout",
     "output_type": "stream",
     "text": [
      "Votre IMC est de 26.23 --> Surpoids\n"
     ]
    }
   ],
   "source": [
    "#une application qui permette à l'utilisateur de sasir son poids (kg) et sa taille (m), puis calcule et affiche son IMC (indice de Masse Corporelle) avec un chiffre décimal.\n",
    "poid = float(input(\"Poids:\"))\n",
    "taille = float(input(\"Taille:\"))\n",
    "#><\n",
    "imc = poid / (taille ** 2)\n",
    "print(\"Votre IMC est de\", round(imc, 2), end=\" --> \")\n",
    "if imc < 18.5:\n",
    "    print(\"Insuffisance pondérale (maigreur)\")\n",
    "elif 18.5 <= imc < 25:\n",
    "    print(\"Corpulence normale\")\n",
    "elif 25 <= imc < 30:\n",
    "    print(\"Surpoids\")\n",
    "elif 30 <= imc < 35:\n",
    "    print(\"Obésité modérée\")\n",
    "elif 35 <= imc < 40:\n",
    "    print(\"Obésité sévère\")\n",
    "elif 40 <= imc:\n",
    "    print(\"Obésité morbide ou massive\")\n"
   ]
  },
  {
   "cell_type": "code",
   "execution_count": 4,
   "id": "e66bbb18",
   "metadata": {},
   "outputs": [
    {
     "name": "stdout",
     "output_type": "stream",
     "text": [
      "Bienvenue à PizzaStore\n",
      "Le montant à payer est: 450 DZD\n"
     ]
    }
   ],
   "source": [
    "#une application qui permettent de calculer le prix d'une pizza\n",
    "print(\"Bienvenue à PizzaStore\")\n",
    "while True:\n",
    "    taille = input(\"Taille de la pizza (P/M/L): \")\n",
    "    if taille in ('P', 'M', 'L', 'p', 'm', 'l'):\n",
    "        break\n",
    "    print(\"Entrée invalide. Veuillez entrer P, M ou L.\")\n",
    "while True:\n",
    "    pepp = input(\"Pepperoni ?(O/N): \")\n",
    "    if pepp in ('O', 'N', 'o', 'n'):\n",
    "        break\n",
    "    print(\"Entrée invalide. Veuillez entrer O ou N\")\n",
    "while True:\n",
    "    fr = input(\"Extra Fromage ? (O/N) \")\n",
    "    if fr in ('O', 'N', 'o', 'n'):\n",
    "        break\n",
    "    print(\"Entrée invalide. Veuillez entrer O ou N\")\n",
    "prix = 0\n",
    "if taille == 'P':\n",
    "    prix += 200\n",
    "    if pepp == 'O':\n",
    "        prix += 30\n",
    "elif taille == 'M':\n",
    "    prix += 300\n",
    "    if pepp == 'O':\n",
    "        prix += 50\n",
    "else:\n",
    "    prix += 450\n",
    "    if pepp == 'O':\n",
    "        prix += 50\n",
    "if fr == 'O':\n",
    "    prix += 20\n",
    "print(\"Le montant à payer est:\", prix, \"DZD\")\n"
   ]
  },
  {
   "cell_type": "code",
   "execution_count": 7,
   "id": "48111916",
   "metadata": {},
   "outputs": [
    {
     "name": "stdout",
     "output_type": "stream",
     "text": [
      "Taille invalid\n",
      "Votre IMC est de 20.2 --> Corpulence normale\n"
     ]
    }
   ],
   "source": [
    "#IMC sachant que les poids (10 et 120kg) et la taille (150 et 200cm)\n",
    "while True:\n",
    "    p = int(input(\"Poids:\"))\n",
    "    if 10 <= p <= 120:\n",
    "        break #get out of loop\n",
    "    print(\"Poids invalid\")\n",
    "while True:\n",
    "    t = float(input('Taille:'))\n",
    "    if 1.5 <= t <= 2.0:\n",
    "        break\n",
    "    print(\"Taille invalid\")\n",
    "imc = p / (t ** 2)\n",
    "print(\"Votre IMC est de\", round(imc, 1), end=\" --> \")\n",
    "if imc < 18.5:\n",
    "    print(\"Insuffisance pondérale (maigreur)\")\n",
    "elif 18.5 <= imc < 25:\n",
    "    print(\"Corpulence normale\")\n",
    "elif  25 <= imc < 30:\n",
    "    print(\"Surpoids\")\n",
    "elif  30 <= imc < 35:\n",
    "    print(\"Obésité modérée\")\n",
    "elif  35 <= imc < 40:\n",
    "    print(\"Obésité sévère\")\n",
    "else:\n",
    "    print(\"Obésité morbide ou massive\")"
   ]
  },
  {
   "cell_type": "code",
   "execution_count": 11,
   "id": "a5b554c5",
   "metadata": {},
   "outputs": [
    {
     "name": "stdout",
     "output_type": "stream",
     "text": [
      "Calcul Salaire\n",
      "Votre salaire pour cette semaine est de  27500.0 DZD\n"
     ]
    }
   ],
   "source": [
    "#un programme qui demande à l'utilisateur de donner le nombre d'heures travaillées durant une semaine par un employé ainsi que son salaire horaire.\n",
    "print(\"Calcul Salaire\")\n",
    "a = int(input(\"Nombre heures travaillées cette semaine :\"))\n",
    "b = int(input(\"Salaire horaire:\"))\n",
    "resultat = 0\n",
    "if a <= 40:\n",
    "    resultat = a * b\n",
    "else:\n",
    "    resultat = (40 * b) + ((a - 40) * (b * 0.5 + b))\n",
    "print(\"Votre salaire pour cette semaine est de \", float(round(resultat, 2)), \"DZD\")"
   ]
  },
  {
   "cell_type": "code",
   "execution_count": 15,
   "id": "45ac9f78",
   "metadata": {},
   "outputs": [
    {
     "name": "stdout",
     "output_type": "stream",
     "text": [
      "MinMax classifier\n",
      "5 et 5 sont équivalent\n"
     ]
    }
   ],
   "source": [
    "print(\"MinMax classifier\")\n",
    "while True:\n",
    "    try:\n",
    "        m = int(input(\"Entrer premier entier\"))\n",
    "        n = int(input(\"Entrerr deuxième entier\"))\n",
    "    except ValueError:\n",
    "        print(\"Nombre invalid\")\n",
    "        continue\n",
    "    else:\n",
    "        break\n",
    "if m > n:\n",
    "    print(\"le premier nombre est le max:\", m, \">\", n)\n",
    "elif n > m:\n",
    "    print(\"le deuxième nombre est le max:\", n, \">\", m)\n",
    "else:\n",
    "    print(m, \"et\", n, \"sont équivalent\")"
   ]
  },
  {
   "cell_type": "code",
   "execution_count": null,
   "id": "3883aa0c",
   "metadata": {},
   "outputs": [
    {
     "name": "stdout",
     "output_type": "stream",
     "text": [
      "Votre score est de 0, vous êtes incompatibles comme huile sur eau\n"
     ]
    }
   ],
   "source": [
    "#une application qui teste  le compatibilité entre deux persones. Afin de calculer ce score il faut prendre les noms complets de deux personnes et calculer le nombre de fois ou les lettre du mot TRUE et LOVE apparaissent\n",
    "while True:\n",
    "    try:\n",
    "        first_name = str(input(\"Donnez le premier nom:\"))\n",
    "        second_name = str(input(\"Donner le second nom:\"))\n",
    "    except ValueError:\n",
    "        print(\"Nom invalid\")\n",
    "        continue\n",
    "    else:\n",
    "        break\n",
    "count = 0\n",
    "first_name = first_name.upper()\n",
    "second_name = second_name.upper()\n",
    "for i in range(len(first_name)):\n",
    "    if first_name[i] in ('T', 'R', 'U', 'E'):\n",
    "        count += 1\n",
    "    if first_name[i] in ('L', 'O', 'V', 'E'):\n",
    "        count += 1\n",
    "    i += 1\n",
    "for i in range(len(second_name)):\n",
    "    if second_name[i] in ('T', 'R', 'U', 'E'):\n",
    "        count += 1\n",
    "    if second_name[i] in ('L', 'O', 'V', 'E'):\n",
    "        count += 1\n",
    "    i += 1\n",
    "print('Votre score est de ' + str(count ) + ',', end=' ')\n",
    "if count < 10:\n",
    "    print('vous êtes incompatibles comme huile sur eau')\n",
    "elif 40 < count < 50:\n",
    "    print(\"vous êtes faits l'un pour l'autre\")\n",
    "elif count > 90 :\n",
    "    print('vous êtes incompatibles comme huile sur eau')"
   ]
  }
 ],
 "metadata": {
  "kernelspec": {
   "display_name": "Python 3",
   "language": "python",
   "name": "python3"
  },
  "language_info": {
   "codemirror_mode": {
    "name": "ipython",
    "version": 3
   },
   "file_extension": ".py",
   "mimetype": "text/x-python",
   "name": "python",
   "nbconvert_exporter": "python",
   "pygments_lexer": "ipython3",
   "version": "3.11.4"
  }
 },
 "nbformat": 4,
 "nbformat_minor": 5
}
