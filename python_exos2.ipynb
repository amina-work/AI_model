{
 "cells": [
  {
   "cell_type": "code",
   "execution_count": null,
   "id": "31528d8e",
   "metadata": {},
   "outputs": [
    {
     "data": {
      "text/plain": [
       "'Sofianeva payer le déjeuner!'"
      ]
     },
     "execution_count": 2,
     "metadata": {},
     "output_type": "execute_result"
    }
   ],
   "source": [
    "#qui va payer programmme:\n",
    "import random\n",
    "def main():\n",
    "    liste_personnes = str(input(\"Donnez la liste des personnes présentes:\"))\n",
    "    liste_personnes = liste_personnes.split(\" \")\n",
    "    return random.choice(liste_personnes) + \"va payer le déjeuner!\"\n",
    "\n",
    "main()"
   ]
  },
  {
   "cell_type": "code",
   "execution_count": 13,
   "id": "75533fe4",
   "metadata": {},
   "outputs": [
    {
     "name": "stdout",
     "output_type": "stream",
     "text": [
      "Générateur de mots de passe\n"
     ]
    },
    {
     "name": "stdout",
     "output_type": "stream",
     "text": [
      "Mot de passe généré (facile): sgtr61$!\n",
      "Mot de passe généré (difficile): y3&7@ndd\n",
      "Au revoir!\n"
     ]
    }
   ],
   "source": [
    "#générateur de mots de passes\n",
    "import random\n",
    "lettres = ['a', 'b', 'c', 'd', 'e', 'f', 'g', 'h', 'i', 'j', 'k', 'l', 'm', 'n', 'o', 'p', 'q', 'r', 's', 't', 'w', 'x', 'y', 'z']\n",
    "numeros = ['0', '1', '2', '3', '4', '5', '6', '7', '8', '9']\n",
    "cara = ['#', '&', '-', '_', '@',  '=', '+', '*', '$', '%', '!']\n",
    "\n",
    "def moyen_password(a, b, c):\n",
    "    string = ''\n",
    "    for i in range(a):\n",
    "        string += random.choice(lettres)\n",
    "    for i in range(b):\n",
    "        string += random.choice(numeros) \n",
    "    for i in range(c):\n",
    "        string += random.choice(cara) \n",
    "    return string\n",
    "\n",
    "def hard_password(a,b,c):\n",
    "    string = ''\n",
    "    for i in range(a):\n",
    "        string += random.choice(lettres)\n",
    "    for i in range(b):\n",
    "        string += random.choice(numeros) \n",
    "    for i in range(c):\n",
    "        string += random.choice(cara) \n",
    "    \n",
    "    return ''.join(random.sample(string, len(string)))\n",
    "\n",
    "def main():\n",
    "    print(\"Générateur de mots de passe\")\n",
    "    while True:\n",
    "        chx = int(input(\"Choisissez 1 pour Moyen (pas de permutation) 2 pour Difficile (avec permutation) ou 0 pour Quitter:\"))\n",
    "        if chx == 0:\n",
    "            print(\"Au revoir!\")\n",
    "            break\n",
    "        elif chx == 1:\n",
    "            nl = int(input(\"Nombre de lettres\"))\n",
    "            nc = int(input(\"Nombre de chiffres:\"))\n",
    "            ncs = int(input(\"Nombre de caractères spéciaux:\"))\n",
    "            print(\"Mot de passe généré (facile):\", moyen_password(nl, nc, ncs))\n",
    "        elif chx == 2:\n",
    "            nl = int(input(\"Nombre de lettres\"))\n",
    "            nc = int(input(\"Nombre de chiffres:\"))\n",
    "            ncs = int(input(\"Nombre de caractères spéciaux:\"))\n",
    "            print(\"Mot de passe généré (difficile):\", hard_password(nl, nc, ncs))\n",
    "        else:\n",
    "            print(\"Nombre invalid.\")\n",
    "main()"
   ]
  },
  {
   "cell_type": "code",
   "execution_count": null,
   "id": "2dcaf896",
   "metadata": {},
   "outputs": [],
   "source": []
  }
 ],
 "metadata": {
  "kernelspec": {
   "display_name": "Python 3",
   "language": "python",
   "name": "python3"
  },
  "language_info": {
   "codemirror_mode": {
    "name": "ipython",
    "version": 3
   },
   "file_extension": ".py",
   "mimetype": "text/x-python",
   "name": "python",
   "nbconvert_exporter": "python",
   "pygments_lexer": "ipython3",
   "version": "3.11.4"
  }
 },
 "nbformat": 4,
 "nbformat_minor": 5
}
