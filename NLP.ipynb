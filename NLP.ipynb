{
 "cells": [
  {
   "cell_type": "code",
   "execution_count": 9,
   "id": "5cbdbf24",
   "metadata": {},
   "outputs": [
    {
     "name": "stdout",
     "output_type": "stream",
     "text": [
      "Tiger\n",
      "<re.Match object; span=(32, 37), match='Tiger'>\n",
      "['Tiger']\n",
      "['12-05-2007', '11-11-2011', '12-01-2009']\n"
     ]
    }
   ],
   "source": [
    "#testing\n",
    "import re\n",
    "\n",
    "pattern = \"Tiger\"\n",
    "#to pick out the first word if it matches\n",
    "string = \"Tiger is the national animal of india\"\n",
    "first_result = re.match(pattern, string).group(0)\n",
    "print(first_result)\n",
    "\n",
    "#to pick the word anywhere in the sentence \n",
    "second_string = \"The national animal of india is Tiger\"\n",
    "second_result = re.search(pattern, second_string)\n",
    "print(second_result)\n",
    "\n",
    "#to pick out the word mutliple times\n",
    "third_string = \"How many Tiger can this sentence have, too many instances of Tiger\"\n",
    "third_result = re.findall(pattern, string)\n",
    "print(third_result)\n",
    "\n",
    "#to pick out date\n",
    "second_pattern = r'\\d{2}-\\d{2}-\\d{4}'\n",
    "fourth_string = \"John 34-2456 12-05-2007, XYZ 56-4532 11-11-2011, ABC 67-8945 12-01-2009\"\n",
    "fourth_result = re.findall(second_pattern, fourth_string)\n",
    "print(fourth_result)\n"
   ]
  },
  {
   "cell_type": "code",
   "execution_count": null,
   "id": "dde2ecef",
   "metadata": {},
   "outputs": [],
   "source": []
  }
 ],
 "metadata": {
  "kernelspec": {
   "display_name": "Python 3",
   "language": "python",
   "name": "python3"
  },
  "language_info": {
   "codemirror_mode": {
    "name": "ipython",
    "version": 3
   },
   "file_extension": ".py",
   "mimetype": "text/x-python",
   "name": "python",
   "nbconvert_exporter": "python",
   "pygments_lexer": "ipython3",
   "version": "3.11.4"
  }
 },
 "nbformat": 4,
 "nbformat_minor": 5
}
